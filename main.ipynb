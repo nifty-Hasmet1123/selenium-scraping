{
 "cells": [
  {
   "cell_type": "code",
   "execution_count": 14,
   "metadata": {},
   "outputs": [],
   "source": [
    "from selenium import webdriver\n",
    "# Starting/Stopping Driver: can specify ports or location but not remote access\n",
    "from selenium.webdriver.chrome.service import Service as ChromeService\n",
    "# Manages Binaries needed for WebDriver without installing anything directly\n",
    "from webdriver_manager.chrome import ChromeDriverManager\n",
    "# Allows searchs similar to beautiful soup: find_all\n",
    "from selenium.webdriver.common.by import By\n",
    "\n",
    "# Try to establish wait times for the page to load\n",
    "# Use this on your code for delay of web crawling\n",
    "from selenium.webdriver.support.ui import WebDriverWait\n",
    "import time"
   ]
  },
  {
   "cell_type": "code",
   "execution_count": 12,
   "metadata": {},
   "outputs": [],
   "source": [
    "# install dotenv \n",
    "# create your own .env file in root directory\n",
    "# store your USERNAME/EMAIL and PASSWORD via variables\n",
    "from dotenv import load_dotenv\n",
    "import os\n",
    "load_dotenv(dotenv_path = r\".env\")\n",
    "\n",
    "username = os.environ[\"USER\"] # get your username/email\n",
    "password = os.environ[\"PASSWORD\"] # get your password"
   ]
  },
  {
   "cell_type": "code",
   "execution_count": 4,
   "metadata": {},
   "outputs": [],
   "source": [
    "# mandatory code for chrome version 115 and above for selenium to work.\n",
    "main_service = ChromeService(ChromeDriverManager().install())"
   ]
  },
  {
   "cell_type": "code",
   "execution_count": 16,
   "metadata": {},
   "outputs": [],
   "source": [
    "def main(username, password):\n",
    "    driver = webdriver.Chrome()\n",
    "    driver.get(\"https://www.facebook.com/\")\n",
    "    username_path = driver.find_element(By.XPATH, \"//input[@type='text']\")\n",
    "    password_path = driver.find_element(By.XPATH, \"//input[@type='password']\")\n",
    "    login_button = driver.find_element(By.XPATH, \"//button[@name='login']\")\n",
    "\n",
    "    username_path.send_keys(username)\n",
    "    password_path.send_keys(password)\n",
    "    login_button.click() # button is click\n",
    "\n",
    "    # do you code here \n",
    "    # wrap code here in function for readability\n",
    "    # \n",
    "\n",
    "    time.sleep(3) # adjust time out if you want some delay\n",
    "    driver.quit() # always quit your code here\n"
   ]
  },
  {
   "cell_type": "code",
   "execution_count": 17,
   "metadata": {},
   "outputs": [],
   "source": [
    "main(username = username, password = password)\n",
    "\n",
    "# loop this in to your collection of email and password\n",
    "# i.e [ main(user, pass) for user, pass in zip(collection_user, collection_password) ]\n",
    "# adjust the code based on what datatype you store your collection of data."
   ]
  }
 ],
 "metadata": {
  "kernelspec": {
   "display_name": ".venv",
   "language": "python",
   "name": "python3"
  },
  "language_info": {
   "codemirror_mode": {
    "name": "ipython",
    "version": 3
   },
   "file_extension": ".py",
   "mimetype": "text/x-python",
   "name": "python",
   "nbconvert_exporter": "python",
   "pygments_lexer": "ipython3",
   "version": "3.12.0"
  }
 },
 "nbformat": 4,
 "nbformat_minor": 2
}
